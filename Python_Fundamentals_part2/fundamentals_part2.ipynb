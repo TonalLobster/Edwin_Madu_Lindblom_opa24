{
 "cells": [
  {
   "cell_type": "markdown",
   "metadata": {},
   "source": [
    "## Python fundamentals part 2"
   ]
  },
  {
   "cell_type": "markdown",
   "metadata": {},
   "source": [
    "### Error handling\n",
    "- syntax errors\n",
    "- runtime errors (exceptions)\n",
    "- semantic errors (logical errors)"
   ]
  },
  {
   "cell_type": "markdown",
   "metadata": {},
   "source": [
    "#### syntax errors"
   ]
  },
  {
   "cell_type": "code",
   "execution_count": 13,
   "metadata": {},
   "outputs": [
    {
     "ename": "NameError",
     "evalue": "name 'prin' is not defined",
     "output_type": "error",
     "traceback": [
      "\u001b[31m---------------------------------------------------------------------------\u001b[39m",
      "\u001b[31mNameError\u001b[39m                                 Traceback (most recent call last)",
      "\u001b[36mCell\u001b[39m\u001b[36m \u001b[39m\u001b[32mIn[13]\u001b[39m\u001b[32m, line 1\u001b[39m\n\u001b[32m----> \u001b[39m\u001b[32m1\u001b[39m \u001b[43mprin\u001b[49m(\u001b[33m\"\u001b[39m\u001b[33mlinear regression is a supervised learning algorithm\u001b[39m\u001b[33m\"\u001b[39m)\n",
      "\u001b[31mNameError\u001b[39m: name 'prin' is not defined"
     ]
    }
   ],
   "source": [
    "prin(\"linear regression is a supervised learning algorithm\")"
   ]
  },
  {
   "cell_type": "code",
   "execution_count": null,
   "metadata": {},
   "outputs": [
    {
     "data": {
      "text/plain": [
       "[0, 1, 2, 3, 4]"
      ]
     },
     "execution_count": 1,
     "metadata": {},
     "output_type": "execute_result"
    }
   ],
   "source": [
    "numbers = list(range(5))\n",
    "numbers"
   ]
  },
  {
   "cell_type": "code",
   "execution_count": null,
   "metadata": {},
   "outputs": [],
   "source": []
  },
  {
   "cell_type": "code",
   "execution_count": null,
   "metadata": {},
   "outputs": [
    {
     "ename": "NameError",
     "evalue": "name 'numbers' is not defined",
     "output_type": "error",
     "traceback": [
      "\u001b[31m---------------------------------------------------------------------------\u001b[39m",
      "\u001b[31mNameError\u001b[39m                                 Traceback (most recent call last)",
      "\u001b[36mCell\u001b[39m\u001b[36m \u001b[39m\u001b[32mIn[4]\u001b[39m\u001b[32m, line 1\u001b[39m\n\u001b[32m----> \u001b[39m\u001b[32m1\u001b[39m \u001b[43mnumbers\u001b[49m[\u001b[32m5\u001b[39m]\n",
      "\u001b[31mNameError\u001b[39m: name 'numbers' is not defined"
     ]
    }
   ],
   "source": [
    "numbers[5]"
   ]
  },
  {
   "cell_type": "markdown",
   "metadata": {},
   "source": [
    "#### logical errors"
   ]
  },
  {
   "cell_type": "code",
   "execution_count": 14,
   "metadata": {},
   "outputs": [
    {
     "name": "stdout",
     "output_type": "stream",
     "text": [
      "area_circle = 15.71\n"
     ]
    }
   ],
   "source": [
    "import numpy as np\n",
    "\n",
    "radius = 5\n",
    "\n",
    "area_circle = np.pi * radius\n",
    "print (f\"{area_circle = :.2f}\") #cercumference of a circle"
   ]
  },
  {
   "cell_type": "markdown",
   "metadata": {},
   "source": [
    "#### try-except"
   ]
  },
  {
   "cell_type": "code",
   "execution_count": null,
   "metadata": {},
   "outputs": [
    {
     "data": {
      "text/plain": [
       "-5.0"
      ]
     },
     "execution_count": 4,
     "metadata": {},
     "output_type": "execute_result"
    }
   ],
   "source": [
    "age = float(input(\"Enter your age\"))\n",
    "age"
   ]
  },
  {
   "cell_type": "code",
   "execution_count": null,
   "metadata": {},
   "outputs": [
    {
     "data": {
      "text/plain": [
       "5.0"
      ]
     },
     "execution_count": 5,
     "metadata": {},
     "output_type": "execute_result"
    }
   ],
   "source": [
    "age = float(input(\"Enter your age\"))\n",
    "age"
   ]
  },
  {
   "cell_type": "code",
   "execution_count": null,
   "metadata": {},
   "outputs": [
    {
     "data": {
      "text/plain": [
       "123452.0"
      ]
     },
     "execution_count": 6,
     "metadata": {},
     "output_type": "execute_result"
    }
   ],
   "source": [
    "age = float(input(\"Enter your age\"))\n",
    "age\n"
   ]
  },
  {
   "cell_type": "code",
   "execution_count": null,
   "metadata": {},
   "outputs": [
    {
     "ename": "ValueError",
     "evalue": "Age must be between 0 and 125",
     "output_type": "error",
     "traceback": [
      "\u001b[31m---------------------------------------------------------------------------\u001b[39m",
      "\u001b[31mValueError\u001b[39m                                Traceback (most recent call last)",
      "\u001b[36mCell\u001b[39m\u001b[36m \u001b[39m\u001b[32mIn[7]\u001b[39m\u001b[32m, line 3\u001b[39m\n\u001b[32m      1\u001b[39m age = \u001b[38;5;28mfloat\u001b[39m(\u001b[38;5;28minput\u001b[39m(\u001b[33m\"\u001b[39m\u001b[33mEnter your age\u001b[39m\u001b[33m\"\u001b[39m))\n\u001b[32m      2\u001b[39m \u001b[38;5;28;01mif\u001b[39;00m \u001b[38;5;129;01mnot\u001b[39;00m \u001b[32m0\u001b[39m <= age <= \u001b[32m125\u001b[39m:\n\u001b[32m----> \u001b[39m\u001b[32m3\u001b[39m     \u001b[38;5;28;01mraise\u001b[39;00m \u001b[38;5;167;01mValueError\u001b[39;00m(\u001b[33m\"\u001b[39m\u001b[33mAge must be between 0 and 125\u001b[39m\u001b[33m\"\u001b[39m)\n\u001b[32m      4\u001b[39m \u001b[38;5;28mprint\u001b[39m (\u001b[33mf\u001b[39m\u001b[33m\"\u001b[39m\u001b[33myou are \u001b[39m\u001b[38;5;132;01m{\u001b[39;00mage\u001b[38;5;132;01m}\u001b[39;00m\u001b[33m years old\u001b[39m\u001b[33m\"\u001b[39m)\n",
      "\u001b[31mValueError\u001b[39m: Age must be between 0 and 125"
     ]
    }
   ],
   "source": [
    "age = float(input(\"Enter your age\"))\n",
    "if not 0 <= age <= 125:\n",
    "    raise ValueError(\"Age must be between 0 and 125\")\n",
    "print (f\"you are {age} years old\")"
   ]
  },
  {
   "cell_type": "code",
   "execution_count": null,
   "metadata": {},
   "outputs": [
    {
     "name": "stdout",
     "output_type": "stream",
     "text": [
      "you are 30.0 years old\n"
     ]
    }
   ],
   "source": [
    "age = float(input(\"Enter your age\"))\n",
    "if not 0 <= age <= 125:\n",
    "    raise ValueError(\"Age must be between 0 and 125\")\n",
    "print (f\"you are {age} years old\")"
   ]
  },
  {
   "cell_type": "code",
   "execution_count": null,
   "metadata": {},
   "outputs": [
    {
     "name": "stdout",
     "output_type": "stream",
     "text": [
      "Age must be between 0 and 125\n"
     ]
    }
   ],
   "source": [
    "try:\n",
    "    age = float(input(\"Enter your age\"))\n",
    "    if not 0 <= age <= 125:\n",
    "        raise ValueError(\"Age must be between 0 and 125\")\n",
    "    print (f\"you are {age} years old\")\n",
    "except ValueError as err:\n",
    "    print(err)"
   ]
  },
  {
   "cell_type": "code",
   "execution_count": null,
   "metadata": {},
   "outputs": [
    {
     "name": "stdout",
     "output_type": "stream",
     "text": [
      "Age must be between 0 an 125\n",
      "Your are 3.0 years old\n",
      "Age must be between 0 an 125\n",
      "could not convert string to float: ''\n",
      "could not convert string to float: ''\n",
      "could not convert string to float: ''\n",
      "could not convert string to float: ''\n",
      "could not convert string to float: ''\n"
     ]
    }
   ],
   "source": [
    "while True:\n",
    "    try:\n",
    "        age = float(input(\"Enter your age\"))\n",
    "        if not 0 <= age <= 125:\n",
    "            raise ValueError(\"Age must be between 0 an 125\") ## Beacuse of line 3,4 & 5, an infinite loop is created because the value of age is not between 0 and 125.\n",
    "        print (f\"Your are {age} years old\")\n",
    "        break #THIS STOPS THE CODE FROM AN INFINITE LOOP\n",
    "    except ValueError as err:\n",
    "\n",
    "        print (err)"
   ]
  },
  {
   "cell_type": "code",
   "execution_count": null,
   "metadata": {},
   "outputs": [
    {
     "name": "stdout",
     "output_type": "stream",
     "text": [
      "Age must be between 0 an 125\n",
      "Your are 10.0 years old\n"
     ]
    }
   ],
   "source": [
    "while True:\n",
    "    try:\n",
    "        age = float(input(\"Enter your age\"))\n",
    "        if not 0 <= age <= 125:\n",
    "            raise ValueError(\"Age must be between 0 an 125\") ## Beacuse of line 3,4 & 5, an infinite loop is created because the value of age is not between 0 and 125.\n",
    "        print (f\"Your are {age} years old\")\n",
    "        break\n",
    "    except ValueError as err:\n",
    "        print (err)"
   ]
  },
  {
   "cell_type": "code",
   "execution_count": null,
   "metadata": {},
   "outputs": [
    {
     "data": {
      "text/plain": [
       "(9, 25, 9)"
      ]
     },
     "execution_count": 3,
     "metadata": {},
     "output_type": "execute_result"
    }
   ],
   "source": [
    "def squarer(x):\n",
    "    return x**2\n",
    "squarer(3), squarer(5), squarer(-3)"
   ]
  },
  {
   "cell_type": "code",
   "execution_count": null,
   "metadata": {},
   "outputs": [
    {
     "data": {
      "text/plain": [
       "[0, 1, 4, 9, 16, 25, 36, 49, 64, 81]"
      ]
     },
     "execution_count": 4,
     "metadata": {},
     "output_type": "execute_result"
    }
   ],
   "source": [
    "[squarer(x) for x in range(10)]"
   ]
  },
  {
   "cell_type": "code",
   "execution_count": null,
   "metadata": {},
   "outputs": [
    {
     "data": {
      "text/plain": [
       "(1, 7)"
      ]
     },
     "execution_count": 5,
     "metadata": {},
     "output_type": "execute_result"
    }
   ],
   "source": [
    "def smallest(number1,number2):\n",
    "    if number1 > number2:\n",
    "        return number2\n",
    "    return number1 ## This is not necessary because the function will return None if the first condition is not met.\n",
    "smallest(7,1), smallest(7,7)"
   ]
  },
  {
   "cell_type": "code",
   "execution_count": null,
   "metadata": {},
   "outputs": [
    {
     "name": "stdout",
     "output_type": "stream",
     "text": [
      "x o o o o \n",
      "x x o o o \n",
      "x x x o o \n",
      "x x x x o \n",
      "x x x x x \n"
     ]
    }
   ],
   "source": [
    "def draw_ascii_pattern(number_rows =5):\n",
    "    for i in range(1, number_rows + 1):\n",
    "        print (i * \"x \" + (number_rows - i) * \"o \")\n",
    "\n",
    "draw_ascii_pattern()"
   ]
  },
  {
   "cell_type": "code",
   "execution_count": null,
   "metadata": {},
   "outputs": [
    {
     "name": "stdout",
     "output_type": "stream",
     "text": [
      "x o o \n",
      "x x o \n",
      "x x x \n"
     ]
    }
   ],
   "source": [
    "draw_ascii_pattern(3)"
   ]
  },
  {
   "cell_type": "code",
   "execution_count": null,
   "metadata": {},
   "outputs": [
    {
     "name": "stdout",
     "output_type": "stream",
     "text": [
      "x o o o o o o o o \n",
      "x x o o o o o o o \n",
      "x x x o o o o o o \n",
      "x x x x o o o o o \n",
      "x x x x x o o o o \n",
      "x x x x x x o o o \n",
      "x x x x x x x o o \n",
      "x x x x x x x x o \n",
      "x x x x x x x x x \n"
     ]
    }
   ],
   "source": [
    "draw_ascii_pattern(9)"
   ]
  },
  {
   "cell_type": "markdown",
   "metadata": {},
   "source": [
    "### arbitrary arguments, *args"
   ]
  },
  {
   "cell_type": "code",
   "execution_count": null,
   "metadata": {},
   "outputs": [
    {
     "name": "stdout",
     "output_type": "stream",
     "text": [
      "(1, 2, 3)\n"
     ]
    },
    {
     "data": {
      "text/plain": [
       "2.0"
      ]
     },
     "execution_count": 9,
     "metadata": {},
     "output_type": "execute_result"
    }
   ],
   "source": [
    "def my_mean(*args):\n",
    "    print(args)\n",
    "    sum_ = 0\n",
    "    for arg in args:\n",
    "        sum_ += arg\n",
    "    return sum_ / len(args)\n",
    "my_mean(1,2,3)"
   ]
  },
  {
   "cell_type": "code",
   "execution_count": 17,
   "metadata": {},
   "outputs": [
    {
     "name": "stdout",
     "output_type": "stream",
     "text": [
      "(1, 2, 3, 4)\n"
     ]
    },
    {
     "data": {
      "text/plain": [
       "2.5"
      ]
     },
     "execution_count": 17,
     "metadata": {},
     "output_type": "execute_result"
    }
   ],
   "source": [
    "def my_mean(*args):\n",
    "    print(args)\n",
    "    sum_ = 0\n",
    "    for arg in args:\n",
    "        sum_ += arg\n",
    "    return sum_/len(args)\n",
    "\n",
    "my_mean(1,2,3,4)"
   ]
  },
  {
   "cell_type": "code",
   "execution_count": 18,
   "metadata": {},
   "outputs": [
    {
     "name": "stdout",
     "output_type": "stream",
     "text": [
      "(1, 2, 3)\n"
     ]
    },
    {
     "data": {
      "text/plain": [
       "2.0"
      ]
     },
     "execution_count": 18,
     "metadata": {},
     "output_type": "execute_result"
    }
   ],
   "source": [
    "my_mean(1,2,3)"
   ]
  },
  {
   "cell_type": "markdown",
   "metadata": {},
   "source": [
    "**keyword arguments, \\*\\**kwargs**"
   ]
  },
  {
   "cell_type": "code",
   "execution_count": 23,
   "metadata": {},
   "outputs": [
    {
     "name": "stdout",
     "output_type": "stream",
     "text": [
      "[[5 1]]\n"
     ]
    }
   ],
   "source": [
    "import numpy as np\n",
    "\n",
    "def simulate_dices(throws = 1, dices = 2):\n",
    "    print (np.random.randint(1,7,(throws, dices)))\n",
    "\n",
    "simulate_dices()"
   ]
  },
  {
   "cell_type": "code",
   "execution_count": 24,
   "metadata": {},
   "outputs": [
    {
     "name": "stdout",
     "output_type": "stream",
     "text": [
      "[[3 5]\n",
      " [4 3]\n",
      " [1 3]\n",
      " [3 5]]\n"
     ]
    }
   ],
   "source": [
    "simulate_dices(throws=4)"
   ]
  },
  {
   "cell_type": "code",
   "execution_count": 25,
   "metadata": {},
   "outputs": [
    {
     "name": "stdout",
     "output_type": "stream",
     "text": [
      "[[6 2 6]\n",
      " [2 4 5]\n",
      " [3 1 5]\n",
      " [1 5 3]]\n"
     ]
    }
   ],
   "source": [
    "simulate_dices(throws=4, dices= 3)"
   ]
  },
  {
   "cell_type": "code",
   "execution_count": 26,
   "metadata": {},
   "outputs": [
    {
     "name": "stdout",
     "output_type": "stream",
     "text": [
      "[[5 4 2]\n",
      " [6 2 2]\n",
      " [5 3 2]\n",
      " [6 6 1]]\n"
     ]
    }
   ],
   "source": [
    "simulate_dices(4,3)"
   ]
  },
  {
   "cell_type": "code",
   "execution_count": 27,
   "metadata": {},
   "outputs": [
    {
     "name": "stdout",
     "output_type": "stream",
     "text": [
      "[[1 6 5 1]\n",
      " [3 3 4 1]\n",
      " [5 1 3 5]]\n"
     ]
    }
   ],
   "source": [
    "simulate_dices(dices=4, throws=3)"
   ]
  },
  {
   "cell_type": "code",
   "execution_count": 28,
   "metadata": {},
   "outputs": [
    {
     "name": "stdout",
     "output_type": "stream",
     "text": [
      "[[1 6 4 1]]\n"
     ]
    }
   ],
   "source": [
    "simulate_dices(dices=4)"
   ]
  },
  {
   "cell_type": "markdown",
   "metadata": {},
   "source": [
    "**unpack arguments**"
   ]
  },
  {
   "cell_type": "code",
   "execution_count": 29,
   "metadata": {},
   "outputs": [
    {
     "name": "stdout",
     "output_type": "stream",
     "text": [
      "[[1 5 6]\n",
      " [5 6 4]]\n"
     ]
    }
   ],
   "source": [
    "option_lists = [2,3]\n",
    "simulate_dices(*option_lists)"
   ]
  },
  {
   "cell_type": "code",
   "execution_count": 30,
   "metadata": {},
   "outputs": [
    {
     "name": "stdout",
     "output_type": "stream",
     "text": [
      "[[2 5 1]\n",
      " [2 4 3]]\n"
     ]
    }
   ],
   "source": [
    "option_dict = dict(dices= 2, throws =3)\n",
    "simulate_dices(*option_lists)"
   ]
  },
  {
   "cell_type": "markdown",
   "metadata": {},
   "source": [
    "**lambda functions**\n"
   ]
  },
  {
   "cell_type": "code",
   "execution_count": 31,
   "metadata": {},
   "outputs": [
    {
     "data": {
      "text/plain": [
       "27"
      ]
     },
     "execution_count": 31,
     "metadata": {},
     "output_type": "execute_result"
    }
   ],
   "source": [
    "cuber = lambda x: x**3\n",
    "cuber(3)"
   ]
  },
  {
   "cell_type": "code",
   "execution_count": 32,
   "metadata": {},
   "outputs": [
    {
     "data": {
      "text/plain": [
       "[('Alice', 85), ('Bob', 92), ('Charlie', 78), ('David', 95)]"
      ]
     },
     "execution_count": 32,
     "metadata": {},
     "output_type": "execute_result"
    }
   ],
   "source": [
    "students = [(\"Alice\", 85), (\"Bob\", 92), (\"Charlie\",78), (\"David\", 95)]\n",
    "sorted(students)"
   ]
  },
  {
   "cell_type": "code",
   "execution_count": 33,
   "metadata": {},
   "outputs": [
    {
     "data": {
      "text/plain": [
       "[('Charlie', 78), ('Alice', 85), ('Bob', 92), ('David', 95)]"
      ]
     },
     "execution_count": 33,
     "metadata": {},
     "output_type": "execute_result"
    }
   ],
   "source": [
    "sorted(students, key = lambda student: student[1])"
   ]
  },
  {
   "cell_type": "markdown",
   "metadata": {},
   "source": [
    "## Matplotlib"
   ]
  },
  {
   "cell_type": "code",
   "execution_count": 43,
   "metadata": {},
   "outputs": [
    {
     "data": {
      "text/plain": [
       "((-5, -4, -3, -2, -1, 0, 1, 2, 3, 4), [-17, -14, -11, -8, -5, -2, 1, 4, 7, 10])"
      ]
     },
     "execution_count": 43,
     "metadata": {},
     "output_type": "execute_result"
    },
    {
     "data": {
      "image/png": "[encoded data removed]",
      "text/plain": [
       "<Figure size 640x480 with 1 Axes>"
      ]
     },
     "metadata": {},
     "output_type": "display_data"
    }
   ],
   "source": [
    "import matplotlib.pyplot as plt\n",
    "\n",
    "\n",
    "f = lambda x: 3 * x - 2 \n",
    "\n",
    "def g(x):\n",
    "    return x**2-2\n",
    "\n",
    "\n",
    "x = tuple(range(-5,5))\n",
    "y = [f(i) for i in x]\n",
    "y2= [g(i) for i in x]\n",
    "\n",
    "plt.plot(x,y)\n",
    "plt.plot(x,y2)\n",
    "plt.title(\"Plotting 2 functions\")\n",
    "plt.xlabel(\"X\")\n",
    "plt.ylabel(\"Y\")\n",
    "plt.legend([\"$f(x) = 3x - 2$\", \"$g(x) = x^2-2$\"])\n",
    "x,y\n"
   ]
  },
  {
   "cell_type": "markdown",
   "metadata": {},
   "source": [
    "**numpy for plotting**"
   ]
  },
  {
   "cell_type": "code",
   "execution_count": 44,
   "metadata": {},
   "outputs": [
    {
     "data": {
      "text/plain": [
       "array([-3.14159265, -3.01336438, -2.88513611, -2.75690784, -2.62867957,\n",
       "       -2.5004513 , -2.37222302, -2.24399475, -2.11576648, -1.98753821,\n",
       "       -1.85930994, -1.73108167, -1.60285339, -1.47462512, -1.34639685,\n",
       "       -1.21816858, -1.08994031, -0.96171204, -0.83348377, -0.70525549,\n",
       "       -0.57702722, -0.44879895, -0.32057068, -0.19234241, -0.06411414,\n",
       "        0.06411414,  0.19234241,  0.32057068,  0.44879895,  0.57702722,\n",
       "        0.70525549,  0.83348377,  0.96171204,  1.08994031,  1.21816858,\n",
       "        1.34639685,  1.47462512,  1.60285339,  1.73108167,  1.85930994,\n",
       "        1.98753821,  2.11576648,  2.24399475,  2.37222302,  2.5004513 ,\n",
       "        2.62867957,  2.75690784,  2.88513611,  3.01336438,  3.14159265])"
      ]
     },
     "execution_count": 44,
     "metadata": {},
     "output_type": "execute_result"
    }
   ],
   "source": [
    "x = np.linspace(-np.pi, np.pi)\n",
    "x"
   ]
  },
  {
   "cell_type": "code",
   "execution_count": 53,
   "metadata": {},
   "outputs": [
    {
     "data": {
      "text/plain": [
       "<matplotlib.legend.Legend at 0x1ff3f38a210>"
      ]
     },
     "execution_count": 53,
     "metadata": {},
     "output_type": "execute_result"
    },
    {
     "data": {
      "image/png": "[encoded data removed]",
      "text/plain": [
       "<Figure size 640x480 with 1 Axes>"
      ]
     },
     "metadata": {},
     "output_type": "display_data"
    },
    {
     "data": {
      "text/plain": [
       "<Figure size 640x480 with 0 Axes>"
      ]
     },
     "metadata": {},
     "output_type": "display_data"
    }
   ],
   "source": [
    "f = lambda x: x**2 +1\n",
    "g = lambda x: np.sin(x) + 5\n",
    "\n",
    "#OOP approach\n",
    "ax,fig = plt.axes(), plt.figure()\n",
    "\n",
    "ax.plot(x, f(x), label = \"$f(x) = x^2 + 1$\")\n",
    "ax.plot(x, g(x), label = \"$g(x) = \\\\sin{x} + 5\")\n",
    "ax.set(title = \"Two graphs\", xlabel = \"x\", ylabel = \"y\")\n",
    "\n",
    "ax.legend()"
   ]
  },
  {
   "cell_type": "markdown",
   "metadata": {},
   "source": [
    "## File handling"
   ]
  },
  {
   "cell_type": "code",
   "execution_count": 54,
   "metadata": {},
   "outputs": [
    {
     "name": "stdout",
     "output_type": "stream",
     "text": [
      "SUperViseD    LEARNinG IS a    PaRt    oF MaCHinE    LEARniNG,   wheRE aLgORithms    LEARn FRom a tRAINIng    DaTa Set. THese   aLgORithms   TRY   TO    MaKE   SeNSe   Of    ThE    DaTa   BY    MaTChiNG    INpUtS   TO    CoRResPonDInG   OutpUTs. In    suPERviseD    LEARNing,    EACH    DaTa   PoINt in    ThE   tRAINIng    Set    IS    LaBELEd WiTH    ThE    CoRReCT    OutpUT,    WHich   aLLOWS   thE ALgORithM    To    LEARn   FRom ThE    ExAMPles. THis   alLOWS   thE    ALgORithM    To    MaKe    PREDIcTions    On    UnSEEN    DaTa, BaSED On    ITs    TRaiNIng. iT    IS    USEd FoR    taSKS SuCH    AS CLaSSIFICaTion, WheRE ThE    GoAL    IS    To    aSSIGn    a LaBEL To    InpUt DaTa,    anD REGrESsIoN, WheRE ThE    GoAL    IS    To    PREDIcT    a CoNtINuoUS    OutpUT VaRIabLE. SuPERviseD    LEARNing    HaS    MaNY    APPLIcatIoNS In    ArEas LIke    Image ReCOGNitiON, NatuRaL    LaNGuaGE PRoCESSINg,    anD FiNaNCiaL FoRECasting.\n"
     ]
    }
   ],
   "source": [
    "with open(\"data/ml_text_raw.txt\", \"r\") as file:\n",
    "    raw_text = file.read()\n",
    "\n",
    "print(raw_text)\n"
   ]
  },
  {
   "cell_type": "code",
   "execution_count": 63,
   "metadata": {},
   "outputs": [
    {
     "name": "stdout",
     "output_type": "stream",
     "text": [
      "Supervised learning is a part of machine learning, where algorithms learn from a training data set.\n",
      "These algorithms try to make sense of the data by matching inputs to corresponding outputs.\n",
      "In supervised learning, each data point in the training set is labeled with the correct output, which allows the algorithm to learn from the examples.\n",
      "This allows the algorithm to make predictions on unseen data, based on its training.\n",
      "It is used for tasks such as classification, where the goal is to assign a label to input data, and regression, where the goal is to predict a continuous output variable.\n",
      "Supervised learning has many applications in areas like image recognition, natural language processing, and financial forecasting.\n"
     ]
    }
   ],
   "source": [
    "import re\n",
    "\n",
    "text_fixed_spacing = re.sub(r\"\\s+\", \" \", raw_text)\n",
    "\n",
    "text_list = [text.capitalize() for text in text_fixed_spacing.split(\". \")]\n",
    "cleaned = \".\\n\".join(text_list)\n",
    "print(cleaned)"
   ]
  },
  {
   "cell_type": "code",
   "execution_count": 64,
   "metadata": {},
   "outputs": [],
   "source": [
    "with open(\"data/ml_text_cleaned.txt\", \"w\") as file:\n",
    "    file.write(cleaned)"
   ]
  },
  {
   "cell_type": "markdown",
   "metadata": {},
   "source": [
    "## Datetime"
   ]
  },
  {
   "cell_type": "code",
   "execution_count": 65,
   "metadata": {},
   "outputs": [
    {
     "data": {
      "text/plain": [
       "datetime.datetime(2025, 3, 6, 14, 8, 42, 528101)"
      ]
     },
     "execution_count": 65,
     "metadata": {},
     "output_type": "execute_result"
    }
   ],
   "source": [
    "from datetime import datetime\n",
    "\n",
    "now = datetime.now()\n",
    "now"
   ]
  },
  {
   "cell_type": "code",
   "execution_count": 66,
   "metadata": {},
   "outputs": [
    {
     "data": {
      "text/plain": [
       "datetime.date(2025, 3, 6)"
      ]
     },
     "execution_count": 66,
     "metadata": {},
     "output_type": "execute_result"
    }
   ],
   "source": [
    "now.date()"
   ]
  },
  {
   "cell_type": "code",
   "execution_count": 68,
   "metadata": {},
   "outputs": [
    {
     "data": {
      "text/plain": [
       "('Thursday', '09', '2025')"
      ]
     },
     "execution_count": 68,
     "metadata": {},
     "output_type": "execute_result"
    }
   ],
   "source": [
    "now.strftime(\"%A\"), now.strftime(\"%W\"), now.strftime(\"%Y\")"
   ]
  },
  {
   "cell_type": "code",
   "execution_count": 70,
   "metadata": {},
   "outputs": [
    {
     "data": {
      "text/plain": [
       "datetime.datetime(2025, 6, 5, 0, 0)"
      ]
     },
     "execution_count": 70,
     "metadata": {},
     "output_type": "execute_result"
    }
   ],
   "source": [
    "graduation_date = \"5/6-2025\"\n",
    "graduation_date = datetime.strptime(graduation_date, \"%d/%m-%Y\")\n",
    "graduation_date"
   ]
  },
  {
   "cell_type": "code",
   "execution_count": 71,
   "metadata": {},
   "outputs": [
    {
     "data": {
      "text/plain": [
       "datetime.timedelta(days=90, seconds=35477, microseconds=471899)"
      ]
     },
     "execution_count": 71,
     "metadata": {},
     "output_type": "execute_result"
    }
   ],
   "source": [
    "graduation_date - now"
   ]
  },
  {
   "cell_type": "code",
   "execution_count": 72,
   "metadata": {},
   "outputs": [
    {
     "data": {
      "text/plain": [
       "datetime.timedelta(days=90, seconds=35477, microseconds=471899)"
      ]
     },
     "execution_count": 72,
     "metadata": {},
     "output_type": "execute_result"
    }
   ],
   "source": [
    "remaining_time = graduation_date - now\n",
    "remaining_time"
   ]
  },
  {
   "cell_type": "code",
   "execution_count": 73,
   "metadata": {},
   "outputs": [
    {
     "name": "stdout",
     "output_type": "stream",
     "text": [
      "90 days, 9:51:17.471899\n"
     ]
    }
   ],
   "source": [
    "print(remaining_time)"
   ]
  },
  {
   "cell_type": "markdown",
   "metadata": {},
   "source": []
  }
 ],
 "metadata": {
  "kernelspec": {
   "display_name": ".venv",
   "language": "python",
   "name": "python3"
  },
  "language_info": {
   "codemirror_mode": {
    "name": "ipython",
    "version": 3
   },
   "file_extension": ".py",
   "mimetype": "text/x-python",
   "name": "python",
   "nbconvert_exporter": "python",
   "pygments_lexer": "ipython3",
   "version": "3.13.2"
  }
 },
 "nbformat": 4,
 "nbformat_minor": 2
}
