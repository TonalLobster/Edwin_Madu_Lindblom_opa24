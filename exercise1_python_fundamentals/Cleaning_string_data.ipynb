{
 "cells": [
  {
   "cell_type": "markdown",
   "metadata": {},
   "source": [
    "## Cleaning string data\n",
    "\n",
    "You would like to print out a short text of your introduction as below:\n",
    "\n",
    "-----------------My introduction------------------\n",
    "I am currently studying AI. My class is called OPA24.\n",
    "\n",
    "However, you are given a raw data as a list:\n",
    "\n",
    "[\"   i \", \"AM \", \"    CURRENTLY \", \"TEACHING\", \"ai.   \", \"mY\", \"   CLASS\", \"IS\", \"CALLED\", \"opa21.\"]\n",
    "\n",
    "Transform the raw data into the desired output as above with string methods. Here are string methods that you can use:\n",
    "\n",
    "- strip() to remove extra whitespaces\n",
    "- join() to combine elements of the list into one string\n",
    "- swapcase() to swap lower and upper case letters\n",
    "- center() to align a string with a specified character\n",
    "- replace() to replace a specified phrase with another specified phrase"
   ]
  },
  {
   "cell_type": "code",
   "execution_count": 2,
   "metadata": {},
   "outputs": [
    {
     "name": "stdout",
     "output_type": "stream",
     "text": [
      "['   i ', 'AM ', '    CURRENTLY ', 'TEACHING', 'ai.   ', 'mY', '   CLASS', 'IS', 'CALLED', 'opa21.']\n"
     ]
    }
   ],
   "source": [
    "ml = [\"   i \", \"AM \", \"    CURRENTLY \", \"TEACHING\", \"ai.   \", \"mY\", \"   CLASS\", \"IS\", \"CALLED\", \"opa21.\"]\n",
    "print(ml)"
   ]
  },
  {
   "cell_type": "code",
   "execution_count": 7,
   "metadata": {},
   "outputs": [
    {
     "name": "stdout",
     "output_type": "stream",
     "text": [
      "['i', 'AM', 'CURRENTLY', 'TEACHING', 'ai.', 'mY', 'CLASS', 'IS', 'CALLED', 'opa21.']\n"
     ]
    }
   ],
   "source": [
    "ml_cleaned_spacing = [text.strip() for text in ml]\n",
    "\n",
    "print(ml_cleaned_spacing)"
   ]
  },
  {
   "cell_type": "code",
   "execution_count": 21,
   "metadata": {},
   "outputs": [
    {
     "name": "stdout",
     "output_type": "stream",
     "text": [
      "['I', 'am', 'currently', 'teaching', 'AI.', 'My', 'class', 'is', 'called', 'OPA21.']\n"
     ]
    }
   ],
   "source": [
    "ml_swapped = [text.swapcase() for text in ml_cleaned_spacing]\n",
    "print(ml_swapped)"
   ]
  },
  {
   "cell_type": "code",
   "execution_count": 25,
   "metadata": {},
   "outputs": [
    {
     "name": "stdout",
     "output_type": "stream",
     "text": [
      "I am currently teaching AI. My class is called OPA21.\n"
     ]
    }
   ],
   "source": [
    "ml_joined = \" \".join(ml_swapped)\n",
    "print(ml_joined)"
   ]
  },
  {
   "cell_type": "code",
   "execution_count": 27,
   "metadata": {},
   "outputs": [
    {
     "name": "stdout",
     "output_type": "stream",
     "text": [
      "-----------------My introduction------------------\n",
      "I am currently teaching AI. My class is called OPA21.\n"
     ]
    }
   ],
   "source": [
    "print(\"-----------------My introduction------------------\")\n",
    "print(ml_joined)"
   ]
  }
 ],
 "metadata": {
  "kernelspec": {
   "display_name": ".venv",
   "language": "python",
   "name": "python3"
  },
  "language_info": {
   "codemirror_mode": {
    "name": "ipython",
    "version": 3
   },
   "file_extension": ".py",
   "mimetype": "text/x-python",
   "name": "python",
   "nbconvert_exporter": "python",
   "pygments_lexer": "ipython3",
   "version": "3.13.2"
  }
 },
 "nbformat": 4,
 "nbformat_minor": 2
}
