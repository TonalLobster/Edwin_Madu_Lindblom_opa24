{
 "cells": [
  {
   "cell_type": "markdown",
   "metadata": {},
   "source": [
    "In a company Hire IT, there are these employees.\n",
    "\n",
    "employeeID\tname\tdepartment\tsalary\n",
    "- 0\tAlice\tHR\t31000\n",
    "- 1\tBob\tIT\t41000\n",
    "- 2\tCharlie\tHR\t28000\n",
    "  - a) Create a list of dictionaries to represent this data, where each dictionary represents each row.\n",
    "\n",
    "  - b) Extract the second record in this dataset.\n",
    "\n",
    "  - c) Extract all rows from this dataset and print it in this format\n",
    "\n",
    "Alice works in department HR and earns 31000.\n",
    "Bob works in department IT and earns 41000.\n",
    "Charlie works in department HR and earns 28000.\n",
    "  - d) Find out the average salary in Hire IT.\n",
    "\n",
    "  - e) Find out the average salary among the HR department in Hire IT.\n",
    "\n",
    "  - f) Extract all records where the department is HR.\n",
    "\n",
    "  - g) Find all unique departments in this list."
   ]
  },
  {
   "cell_type": "code",
   "execution_count": 2,
   "metadata": {},
   "outputs": [],
   "source": [
    "import pandas as pd"
   ]
  },
  {
   "cell_type": "code",
   "execution_count": 24,
   "metadata": {},
   "outputs": [],
   "source": [
    "Employee_list = [\n",
    "    {\"name\": \"Alice\", \"department\": \"HR\",\"salary\": 31000},\n",
    "    {\"name\": \"Bob\", \"department\": \"IT\", \"salary\": 41000},\n",
    "    {\"name\": \"Charlie\", \"department\": \"HR\", \"salary\": 28000},\n",
    "]"
   ]
  },
  {
   "cell_type": "code",
   "execution_count": 30,
   "metadata": {},
   "outputs": [
    {
     "name": "stdout",
     "output_type": "stream",
     "text": [
      "{'name': 'Bob', 'department': 'IT', 'salary': 41000}\n"
     ]
    }
   ],
   "source": [
    "print( Employee_list[1])\n"
   ]
  },
  {
   "cell_type": "code",
   "execution_count": 66,
   "metadata": {},
   "outputs": [
    {
     "name": "stdout",
     "output_type": "stream",
     "text": [
      "Alice works in HR and earns 31000\n",
      "Bob works in IT and earns 41000\n",
      "Charlie works in HR and earns 28000\n"
     ]
    }
   ],
   "source": [
    "for e in Employee_list:\n",
    "    print(f\"{e[\"name\"]} works in {e[\"department\"]} and earns {e[\"salary\"]}\")\n",
    "    "
   ]
  },
  {
   "cell_type": "code",
   "execution_count": 68,
   "metadata": {},
   "outputs": [],
   "source": [
    "import pandas as pd"
   ]
  },
  {
   "cell_type": "code",
   "execution_count": 71,
   "metadata": {},
   "outputs": [
    {
     "data": {
      "text/html": [
       "<div>\n",
       "<style scoped>\n",
       "    .dataframe tbody tr th:only-of-type {\n",
       "        vertical-align: middle;\n",
       "    }\n",
       "\n",
       "    .dataframe tbody tr th {\n",
       "        vertical-align: top;\n",
       "    }\n",
       "\n",
       "    .dataframe thead th {\n",
       "        text-align: right;\n",
       "    }\n",
       "</style>\n",
       "<table border=\"1\" class=\"dataframe\">\n",
       "  <thead>\n",
       "    <tr style=\"text-align: right;\">\n",
       "      <th></th>\n",
       "      <th>name</th>\n",
       "      <th>department</th>\n",
       "      <th>salary</th>\n",
       "    </tr>\n",
       "  </thead>\n",
       "  <tbody>\n",
       "    <tr>\n",
       "      <th>0</th>\n",
       "      <td>Alice</td>\n",
       "      <td>HR</td>\n",
       "      <td>31000</td>\n",
       "    </tr>\n",
       "    <tr>\n",
       "      <th>1</th>\n",
       "      <td>Bob</td>\n",
       "      <td>IT</td>\n",
       "      <td>41000</td>\n",
       "    </tr>\n",
       "    <tr>\n",
       "      <th>2</th>\n",
       "      <td>Charlie</td>\n",
       "      <td>HR</td>\n",
       "      <td>28000</td>\n",
       "    </tr>\n",
       "  </tbody>\n",
       "</table>\n",
       "</div>"
      ],
      "text/plain": [
       "      name department  salary\n",
       "0    Alice         HR   31000\n",
       "1      Bob         IT   41000\n",
       "2  Charlie         HR   28000"
      ]
     },
     "execution_count": 71,
     "metadata": {},
     "output_type": "execute_result"
    }
   ],
   "source": [
    "df = pd.DataFrame(Employee_list)\n",
    "df"
   ]
  },
  {
   "cell_type": "code",
   "execution_count": null,
   "metadata": {},
   "outputs": [],
   "source": []
  }
 ],
 "metadata": {
  "kernelspec": {
   "display_name": ".venv",
   "language": "python",
   "name": "python3"
  },
  "language_info": {
   "codemirror_mode": {
    "name": "ipython",
    "version": 3
   },
   "file_extension": ".py",
   "mimetype": "text/x-python",
   "name": "python",
   "nbconvert_exporter": "python",
   "pygments_lexer": "ipython3",
   "version": "3.13.2"
  }
 },
 "nbformat": 4,
 "nbformat_minor": 2
}
