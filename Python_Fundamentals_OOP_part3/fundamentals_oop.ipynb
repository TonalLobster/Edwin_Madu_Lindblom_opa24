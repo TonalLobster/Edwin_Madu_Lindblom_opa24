{
 "cells": [
  {
   "cell_type": "markdown",
   "metadata": {},
   "source": [
    "## Python fundamentals part 3 - OOP"
   ]
  },
  {
   "cell_type": "code",
   "execution_count": 1,
   "metadata": {},
   "outputs": [
    {
     "data": {
      "text/plain": [
       "<__main__.Admission at 0x215ff174590>"
      ]
     },
     "execution_count": 1,
     "metadata": {},
     "output_type": "execute_result"
    }
   ],
   "source": [
    "class Admission:\n",
    "    def __init__(self, school, program, name, accept):\n",
    "        self.school = school\n",
    "        self.program = program\n",
    "        self.name = name\n",
    "        self.accept = accept\n",
    "\n",
    "\n",
    "student1 = Admission(\"Cool School\", \"AI\", accept= True, name = \"Edwin\")\n",
    "student1"
   ]
  },
  {
   "cell_type": "code",
   "execution_count": 2,
   "metadata": {},
   "outputs": [
    {
     "data": {
      "text/plain": [
       "<__main__.Admission at 0x215fef67750>"
      ]
     },
     "execution_count": 2,
     "metadata": {},
     "output_type": "execute_result"
    }
   ],
   "source": [
    "student2 = Admission(\"Cooler School\", \"Data Science\", accept= False, name = \"Gore Bord\")\n",
    "student2"
   ]
  },
  {
   "cell_type": "code",
   "execution_count": 3,
   "metadata": {},
   "outputs": [
    {
     "data": {
      "text/plain": [
       "('AI', 'Edwin', True)"
      ]
     },
     "execution_count": 3,
     "metadata": {},
     "output_type": "execute_result"
    }
   ],
   "source": [
    "student1.program, student1.name, student1.accept"
   ]
  },
  {
   "cell_type": "code",
   "execution_count": 4,
   "metadata": {},
   "outputs": [
    {
     "data": {
      "text/plain": [
       "('Gore Bord', False)"
      ]
     },
     "execution_count": 4,
     "metadata": {},
     "output_type": "execute_result"
    }
   ],
   "source": [
    "student2.name, student2.accept"
   ]
  },
  {
   "cell_type": "code",
   "execution_count": 5,
   "metadata": {},
   "outputs": [
    {
     "data": {
      "text/plain": [
       "'UX'"
      ]
     },
     "execution_count": 5,
     "metadata": {},
     "output_type": "execute_result"
    }
   ],
   "source": [
    "student2.program = \"UX\"\n",
    "student2.program"
   ]
  },
  {
   "cell_type": "code",
   "execution_count": 6,
   "metadata": {},
   "outputs": [
    {
     "data": {
      "text/plain": [
       "('0x215ff174590', '0x215fef67750')"
      ]
     },
     "execution_count": 6,
     "metadata": {},
     "output_type": "execute_result"
    }
   ],
   "source": [
    "hex(id(student1)), hex(id(student2))"
   ]
  },
  {
   "cell_type": "markdown",
   "metadata": {},
   "source": [
    "## \\_\\_repr\\_\\_\n",
    "\n",
    "- \"dunder repper\"\n",
    "- method of representing and object or instance"
   ]
  },
  {
   "cell_type": "code",
   "execution_count": null,
   "metadata": {},
   "outputs": [
    {
     "data": {
      "text/plain": [
       "Admission(school= Cool School, program= Haskell, name= Ada Lovelace, accept= True)"
      ]
     },
     "execution_count": 9,
     "metadata": {},
     "output_type": "execute_result"
    }
   ],
   "source": [
    "class Admission:\n",
    "    def __init__(self, school, program, name, accept):\n",
    "        self.school = school\n",
    "        self.program = program\n",
    "        self.name = name\n",
    "        self.accept = accept\n",
    "\n",
    "    def __repr__(self):\n",
    "        return f\"Admission(school= {self.school}, program= {self.program}, name= {self.name}, accept= {self.accept})\"\n",
    "    ##__repr__ is used for other programmers how you would use the class.\n",
    "\n",
    "\n",
    "student3 = Admission(\"Cool School\", \"Haskell\", \"Ada Lovelace\", True)\n",
    "student3\n"
   ]
  },
  {
   "cell_type": "code",
   "execution_count": 10,
   "metadata": {},
   "outputs": [
    {
     "data": {
      "text/plain": [
       "'Admission(school= Cool School, program= Haskell, name= Ada Lovelace, accept= True)'"
      ]
     },
     "execution_count": 10,
     "metadata": {},
     "output_type": "execute_result"
    }
   ],
   "source": [
    "repr(student3)"
   ]
  },
  {
   "cell_type": "code",
   "execution_count": null,
   "metadata": {},
   "outputs": [
    {
     "data": {
      "text/plain": [
       "'Admission(school= Cool School, program= Haskell, name= Ada Lovelace, accept= True)'"
      ]
     },
     "execution_count": 12,
     "metadata": {},
     "output_type": "execute_result"
    }
   ],
   "source": [
    "str(student3)\n",
    "#gets the same output as __repr__ since it defaults to __repr__ if __str__ isnt declared."
   ]
  },
  {
   "cell_type": "code",
   "execution_count": null,
   "metadata": {},
   "outputs": [
    {
     "data": {
      "text/plain": [
       "Student(name='Gore Bord', age=55, active=True)"
      ]
     },
     "execution_count": 14,
     "metadata": {},
     "output_type": "execute_result"
    }
   ],
   "source": [
    "class Student:\n",
    "    def __init__(self, name: str, age: int, active: bool) -> None:\n",
    "        self.name = name\n",
    "        self.age = age\n",
    "        self.active = active\n",
    "\n",
    "    def __repr__(self) -> str:\n",
    "        return f\"Student(name='{self.name}', age={self.age}, active={self.active})\"\n",
    "    \n",
    "    \n",
    "s1 = Student(\"Gore Bord\", 55, True)\n",
    "s1"
   ]
  },
  {
   "cell_type": "code",
   "execution_count": 15,
   "metadata": {},
   "outputs": [],
   "source": [
    "class Student:\n",
    "    \"\"\"\n",
    "    Represents a student with a name, age, and active status.\n",
    "\n",
    "    Attributes:\n",
    "        name (str): The name of the student.\n",
    "        age (int): The age of the student.\n",
    "        active (bool): Indicates whether the student is currently active (e.g., if they participate in class activetly).\n",
    "\n",
    "    Methods:\n",
    "        __init__(name: str, age: int, active: bool):\n",
    "            Initializes a new Student instance with the provided attributes.\n",
    "        __repr__():\n",
    "            Returns a string representation of the Student instance.\n",
    "\n",
    "    Examples:\n",
    "        >>> student = Student(\"Alice\", 20, True)\n",
    "        >>> print(student)\n",
    "        Student(name='Alice', age=20, active=True)\n",
    "    \"\"\"\n",
    "\n",
    "    def __init__(self, name: str, age: int, active: bool) -> None:\n",
    "        \"\"\"\n",
    "        Initialize a new Student instance.\n",
    "\n",
    "        Parameters(Args):\n",
    "            name (str): The student's name.\n",
    "            age (int): The student's age.\n",
    "            active (bool): The student's active status.\n",
    "        \"\"\"\n",
    "        self.name = name\n",
    "        self.age = age\n",
    "        self.active = active\n",
    "\n",
    "    def __repr__(self) -> str:\n",
    "        \"\"\"\n",
    "        Return a string representation of the Student instance.\n",
    "\n",
    "        Returns:\n",
    "            str: A string that represents the student, including the name, age, and active status.\n",
    "        \"\"\"\n",
    "        return f\"Student(name='{self.name}', age={self.age}, active={self.active})\"\n"
   ]
  },
  {
   "cell_type": "code",
   "execution_count": 16,
   "metadata": {},
   "outputs": [
    {
     "name": "stdout",
     "output_type": "stream",
     "text": [
      "Help on class Student in module __main__:\n",
      "\n",
      "class Student(builtins.object)\n",
      " |  Student(name: str, age: int, active: bool) -> None\n",
      " |\n",
      " |  Represents a student with a name, age, and active status.\n",
      " |\n",
      " |  Attributes:\n",
      " |      name (str): The name of the student.\n",
      " |      age (int): The age of the student.\n",
      " |      active (bool): Indicates whether the student is currently active (e.g., if they participate in class activetly).\n",
      " |\n",
      " |  Methods:\n",
      " |      __init__(name: str, age: int, active: bool):\n",
      " |          Initializes a new Student instance with the provided attributes.\n",
      " |      __repr__():\n",
      " |          Returns a string representation of the Student instance.\n",
      " |\n",
      " |  Examples:\n",
      " |      >>> student = Student(\"Alice\", 20, True)\n",
      " |      >>> print(student)\n",
      " |      Student(name='Alice', age=20, active=True)\n",
      " |\n",
      " |  Methods defined here:\n",
      " |\n",
      " |  __init__(self, name: str, age: int, active: bool) -> None\n",
      " |      Initialize a new Student instance.\n",
      " |\n",
      " |      Parameters(Args):\n",
      " |          name (str): The student's name.\n",
      " |          age (int): The student's age.\n",
      " |          active (bool): The student's active status.\n",
      " |\n",
      " |  __repr__(self) -> str\n",
      " |      Return a string representation of the Student instance.\n",
      " |\n",
      " |      Returns:\n",
      " |          str: A string that represents the student, including the name, age, and active status.\n",
      " |\n",
      " |  ----------------------------------------------------------------------\n",
      " |  Data descriptors defined here:\n",
      " |\n",
      " |  __dict__\n",
      " |      dictionary for instance variables\n",
      " |\n",
      " |  __weakref__\n",
      " |      list of weak references to the object\n",
      "\n"
     ]
    }
   ],
   "source": [
    "help(Student)"
   ]
  },
  {
   "cell_type": "code",
   "execution_count": null,
   "metadata": {},
   "outputs": [],
   "source": []
  }
 ],
 "metadata": {
  "kernelspec": {
   "display_name": ".venv",
   "language": "python",
   "name": "python3"
  },
  "language_info": {
   "codemirror_mode": {
    "name": "ipython",
    "version": 3
   },
   "file_extension": ".py",
   "mimetype": "text/x-python",
   "name": "python",
   "nbconvert_exporter": "python",
   "pygments_lexer": "ipython3",
   "version": "3.13.2"
  }
 },
 "nbformat": 4,
 "nbformat_minor": 2
}
